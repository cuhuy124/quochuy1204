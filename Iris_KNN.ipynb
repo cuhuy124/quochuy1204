{
  "nbformat": 4,
  "nbformat_minor": 0,
  "metadata": {
    "colab": {
      "name": "Iris-KNN.ipynb",
      "provenance": [],
      "authorship_tag": "ABX9TyOHy7MC2WDlCWMGoPrHwUDs",
      "include_colab_link": true
    },
    "kernelspec": {
      "name": "python3",
      "display_name": "Python 3"
    }
  },
  "cells": [
    {
      "cell_type": "markdown",
      "metadata": {
        "id": "view-in-github",
        "colab_type": "text"
      },
      "source": [
        "<a href=\"https://colab.research.google.com/github/cuhuy124/quochuy1204/blob/master/Iris_KNN.ipynb\" target=\"_parent\"><img src=\"https://colab.research.google.com/assets/colab-badge.svg\" alt=\"Open In Colab\"/></a>"
      ]
    },
    {
      "cell_type": "code",
      "metadata": {
        "id": "Nj2x0a-AlQCB",
        "outputId": "241a0e46-4f04-494b-c3b6-6d18882c2027",
        "colab": {
          "base_uri": "https://localhost:8080/",
          "height": 619
        }
      },
      "source": [
        "import numpy as np\n",
        "import matplotlib.pyplot as plt\n",
        "from sklearn.datasets import load_iris\n",
        "from sklearn import neighbors, datasets\n",
        "from sklearn.metrics import accuracy_score\n",
        "from sklearn.model_selection import train_test_split\n",
        "from sklearn.model_selection import cross_val_score\n",
        "from sklearn.tree import DecisionTreeClassifier\n",
        "from sklearn.metrics import precision_score\n",
        "from sklearn.metrics import recall_score\n",
        "\n",
        "iris = datasets.load_iris()\n",
        "iris_X = iris.data\n",
        "iris_y = iris.target\n",
        "print('Number of classes: %d' %len(np.unique(iris_y)))\n",
        "print('Number of data points: %d' %len(iris_y))\n",
        "\n",
        "\n",
        "X0 = iris_X[iris_y == 0,:]\n",
        "print('\\nSamples from class 0:\\n', X0[:5,:])\n",
        "\n",
        "X1 = iris_X[iris_y == 1,:]\n",
        "print('\\nSamples from class 1:\\n', X1[:5,:])\n",
        "\n",
        "X2 = iris_X[iris_y == 2,:]\n",
        "print('\\nSamples from class 2:\\n', X2[:5,:])\n",
        "\n",
        "\n",
        "X_train, X_test, y_train, y_test = train_test_split(\n",
        "     iris_X, iris_y, test_size=50)\n",
        "\n",
        "print(\"Training size: %d\" %len(y_train))\n",
        "print(\"Test size    : %d\" %len(y_test))\n",
        "\n",
        "clf = neighbors.KNeighborsClassifier(n_neighbors = 25, p = 2)\n",
        "clf.fit(X_train, y_train)\n",
        "y_pred = clf.predict(X_test)\n",
        "\n",
        "print(\"Print results for 20 test data points:\")\n",
        "print(\"Predicted labels: \", y_pred[20:40])\n",
        "print(\"Ground truth    : \", y_test[20:40])\n",
        "\n",
        "\n",
        "print(\"Accuracy of 50NN: %.2f %%\" %(100*accuracy_score(y_test, y_pred)))\n",
        "\n",
        "\n",
        "print(\"Precision of 50NN: %.2f %%\" %(100*precision_score(y_test, y_pred , average= 'macro')))\n",
        "\n",
        "\n",
        "print(\"Recall Score: %f%%\" %(100*recall_score(y_test,y_pred, average='macro')))\n",
        "\n",
        "# Decision Tree Classification\n",
        "print(\"\\nThis is an Decision Tree\\n\")\n",
        "clf = DecisionTreeClassifier(random_state=0)\n",
        "iris = load_iris()\n",
        "cross_val_score(clf, iris.data, iris.target, cv=10)\n",
        "\n"
      ],
      "execution_count": null,
      "outputs": [
        {
          "output_type": "stream",
          "text": [
            "Number of classes: 3\n",
            "Number of data points: 150\n",
            "\n",
            "Samples from class 0:\n",
            " [[5.1 3.5 1.4 0.2]\n",
            " [4.9 3.  1.4 0.2]\n",
            " [4.7 3.2 1.3 0.2]\n",
            " [4.6 3.1 1.5 0.2]\n",
            " [5.  3.6 1.4 0.2]]\n",
            "\n",
            "Samples from class 1:\n",
            " [[7.  3.2 4.7 1.4]\n",
            " [6.4 3.2 4.5 1.5]\n",
            " [6.9 3.1 4.9 1.5]\n",
            " [5.5 2.3 4.  1.3]\n",
            " [6.5 2.8 4.6 1.5]]\n",
            "\n",
            "Samples from class 2:\n",
            " [[6.3 3.3 6.  2.5]\n",
            " [5.8 2.7 5.1 1.9]\n",
            " [7.1 3.  5.9 2.1]\n",
            " [6.3 2.9 5.6 1.8]\n",
            " [6.5 3.  5.8 2.2]]\n",
            "Training size: 100\n",
            "Test size    : 50\n",
            "Print results for 20 test data points:\n",
            "Predicted labels:  [0 1 0 2 0 2 2 1 1 1 0 0 2 1 0 2 2 2 0 1]\n",
            "Ground truth    :  [0 1 0 2 0 2 2 1 1 1 0 0 2 2 0 2 2 2 0 1]\n",
            "Accuracy of 50NN: 96.00 %\n",
            "Precision of 50NN: 96.48 %\n",
            "Recall Score: 96.481481%\n",
            "\n",
            "This is an Decision Tree\n",
            "\n"
          ],
          "name": "stdout"
        },
        {
          "output_type": "execute_result",
          "data": {
            "text/plain": [
              "array([1.        , 0.93333333, 1.        , 0.93333333, 0.93333333,\n",
              "       0.86666667, 0.93333333, 1.        , 1.        , 1.        ])"
            ]
          },
          "metadata": {
            "tags": []
          },
          "execution_count": 1
        }
      ]
    }
  ]
}