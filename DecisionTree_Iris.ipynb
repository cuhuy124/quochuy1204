{
  "nbformat": 4,
  "nbformat_minor": 0,
  "metadata": {
    "colab": {
      "name": "DecisionTree-Iris.ipynb",
      "provenance": [],
      "collapsed_sections": [],
      "authorship_tag": "ABX9TyPSiekWbz5K5AVjw9R7c6oq",
      "include_colab_link": true
    },
    "kernelspec": {
      "name": "python3",
      "display_name": "Python 3"
    }
  },
  "cells": [
    {
      "cell_type": "markdown",
      "metadata": {
        "id": "view-in-github",
        "colab_type": "text"
      },
      "source": [
        "<a href=\"https://colab.research.google.com/github/cuhuy124/quochuy1204/blob/master/DecisionTree_Iris.ipynb\" target=\"_parent\"><img src=\"https://colab.research.google.com/assets/colab-badge.svg\" alt=\"Open In Colab\"/></a>"
      ]
    },
    {
      "cell_type": "code",
      "metadata": {
        "id": "CGLSi8U8tVvY",
        "outputId": "57a8a3c7-566b-4c9d-8c28-538a76d13834",
        "colab": {
          "base_uri": "https://localhost:8080/",
          "height": 184
        }
      },
      "source": [
        "\n",
        "import pandas as pd\n",
        "from sklearn import datasets\n",
        "from sklearn.model_selection import train_test_split\n",
        "\n",
        "iris = datasets.load_iris()  # load iris dataset\n",
        "x = iris.data\n",
        "y = iris.target\n",
        "\n",
        "d = [{\"sepal_length\":row[0], \"sepal_width\":row[1], \"petal_length\":row[2], \"petal_width\":row[3]} for row in x]\n",
        "\n",
        "df = pd.DataFrame(d) # construct dataframe\n",
        "\n",
        "df[\"types\"] = y # assign types\n",
        "\n",
        "df = df.sample(frac=1.0) # random shuffle rows\n",
        "\n",
        "df.head()\n",
        "\n",
        "# train test split, ratio = 0.8\n",
        "features = df[[\"sepal_length\",\"sepal_width\",\"petal_length\",\"petal_width\"]]\n",
        "types = df[\"types\"]\n",
        "train_features, test_features, train_types, test_types = train_test_split(features,types,train_size=0.8, random_state=1)\n",
        "\n",
        "#scikit learn decision tree model trainig \n",
        "from sklearn import tree\n",
        "clf = tree.DecisionTreeClassifier()\n",
        "clf = clf.fit(train_features, train_types)\n",
        "prediction = clf.predict(test_features)\n",
        "# evaluation for multi class classification\n",
        "from sklearn.metrics import classification_report\n",
        "print(classification_report(test_types, prediction, target_names=[\"type0\",\"type1\",\"type2\"]))"
      ],
      "execution_count": 41,
      "outputs": [
        {
          "output_type": "stream",
          "text": [
            "              precision    recall  f1-score   support\n",
            "\n",
            "       type0       1.00      1.00      1.00        10\n",
            "       type1       0.73      0.80      0.76        10\n",
            "       type2       0.78      0.70      0.74        10\n",
            "\n",
            "    accuracy                           0.83        30\n",
            "   macro avg       0.84      0.83      0.83        30\n",
            "weighted avg       0.84      0.83      0.83        30\n",
            "\n"
          ],
          "name": "stdout"
        }
      ]
    }
  ]
}